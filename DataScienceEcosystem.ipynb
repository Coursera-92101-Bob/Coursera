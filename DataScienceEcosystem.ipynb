{
 "cells": [
  {
   "cell_type": "markdown",
   "id": "264b2445-e5ee-4c5f-8710-fc4c75105fb0",
   "metadata": {},
   "source": [
    "# Data Science Tools and Ecosystem"
   ]
  },
  {
   "cell_type": "markdown",
   "id": "53fe9aef-efe8-46b7-abfd-459b52098477",
   "metadata": {},
   "source": [
    "In this notebook, Data Science Tools and Ecosystem are summarized."
   ]
  },
  {
   "cell_type": "markdown",
   "id": "92b4c162-2d30-4897-b01e-d8a3fb02bcc7",
   "metadata": {},
   "source": [
    "Some of the popular languages that Data Scientists use are:"
   ]
  },
  {
   "cell_type": "markdown",
   "id": "1de29019-2b40-4716-93a6-956ad5d041db",
   "metadata": {},
   "source": [
    "1. Item\n",
    "2. Balls\n",
    "3. Bases"
   ]
  },
  {
   "cell_type": "markdown",
   "id": "36bf597b-1090-423e-8e7f-65df0e67a09a",
   "metadata": {},
   "source": [
    "| Data Science| Tools|\n",
    "|-------------|-------|\n",
    "|quiz| Computer|\n",
    "|Code| Cheat Sheet|"
   ]
  },
  {
   "cell_type": "markdown",
   "id": "7b22fee9-48d6-4c0c-af93-4a5e8633fbcf",
   "metadata": {},
   "source": [
    "### Below are a few examples of evaluating arithmetic expressions in Python"
   ]
  },
  {
   "cell_type": "code",
   "execution_count": null,
   "id": "7a09d453-bfae-4600-a4bf-0ed5a8fa83d5",
   "metadata": {},
   "outputs": [],
   "source": [
    "This a simple arithmetic expression to mutiply then add integers"
   ]
  },
  {
   "cell_type": "code",
   "execution_count": null,
   "id": "75f3f374-157d-473d-a5e7-a86579793928",
   "metadata": {},
   "outputs": [],
   "source": [
    "(3*4)+5"
   ]
  },
  {
   "cell_type": "markdown",
   "id": "85ecafde-5622-4996-98ed-14bfe38c3d4a",
   "metadata": {},
   "source": [
    "This will convert 200 minutes to hours by diving by 60"
   ]
  },
  {
   "cell_type": "code",
   "execution_count": null,
   "id": "016980ad-1d18-47d5-b182-45d82f3f4754",
   "metadata": {},
   "outputs": [],
   "source": [
    "200/60"
   ]
  },
  {
   "cell_type": "markdown",
   "id": "51b6468f-5566-4117-9027-a831a7a9518c",
   "metadata": {},
   "source": [
    "Author H2 style heading\n",
    "## Author is Me. I'm not sharing my name on Git hub"
   ]
  },
  {
   "cell_type": "code",
   "execution_count": null,
   "id": "1562a031-941e-4f26-afc7-0c05deaba1a6",
   "metadata": {
    "jupyter": {
     "source_hidden": true
    }
   },
   "outputs": [],
   "source": []
  }
 ],
 "metadata": {
  "kernelspec": {
   "display_name": "Python 3 (ipykernel)",
   "language": "python",
   "name": "python3"
  },
  "language_info": {
   "codemirror_mode": {
    "name": "ipython",
    "version": 3
   },
   "file_extension": ".py",
   "mimetype": "text/x-python",
   "name": "python",
   "nbconvert_exporter": "python",
   "pygments_lexer": "ipython3",
   "version": "3.11.9"
  }
 },
 "nbformat": 4,
 "nbformat_minor": 5
}
